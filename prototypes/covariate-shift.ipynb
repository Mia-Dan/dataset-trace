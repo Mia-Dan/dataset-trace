{
 "cells": [
  {
   "cell_type": "code",
   "execution_count": 2,
   "id": "20268173-892d-40ce-9ab4-fade02d9e1ac",
   "metadata": {},
   "outputs": [],
   "source": [
    "from deepchecks.tabular.checks import TrainTestFeatureDrift"
   ]
  },
  {
   "cell_type": "code",
   "execution_count": 3,
   "id": "c2999445-ee05-4cd5-a531-809eebc927bd",
   "metadata": {},
   "outputs": [
    {
     "name": "stdout",
     "output_type": "stream",
     "text": [
      "hi\n"
     ]
    }
   ],
   "source": []
  },
  {
   "cell_type": "code",
   "execution_count": null,
   "id": "2e6318bd-39bd-4492-b111-1fe46d3bed2d",
   "metadata": {},
   "outputs": [],
   "source": []
  }
 ],
 "metadata": {
  "kernelspec": {
   "display_name": "Python 3 (ipykernel)",
   "language": "python",
   "name": "python3"
  },
  "language_info": {
   "codemirror_mode": {
    "name": "ipython",
    "version": 3
   },
   "file_extension": ".py",
   "mimetype": "text/x-python",
   "name": "python",
   "nbconvert_exporter": "python",
   "pygments_lexer": "ipython3",
   "version": "3.10.10"
  }
 },
 "nbformat": 4,
 "nbformat_minor": 5
}
