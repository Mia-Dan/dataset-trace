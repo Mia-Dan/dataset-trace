{
 "cells": [
  {
   "cell_type": "code",
   "execution_count": 18,
   "id": "f93b06c2-f58e-42f2-aad2-94a97bdb8564",
   "metadata": {},
   "outputs": [],
   "source": [
    "import numpy as np\n",
    "import pandas as pd\n",
    "from IPython.display import display\n",
    "import matplotlib.pyplot as plt\n",
    "from matplotlib.backends.backend_pdf import PdfPages\n",
    "# import dask.dataframe as dd\n",
    "from pathlib import Path\n",
    "import seaborn as sns\n",
    "\n",
    "%matplotlib inline"
   ]
  },
  {
   "cell_type": "code",
   "execution_count": 2,
   "id": "fffe3d56-9ddd-430a-8c21-2f81fa3040cd",
   "metadata": {},
   "outputs": [],
   "source": [
    "data_path = '/home/rayandrew/Data/azure-data/vmtable.csv.gz'\n",
    "headers = ['vmid','subscriptionid','deploymentid','vmcreated', 'vmdeleted', 'maxcpu', 'avgcpu', 'p95maxcpu', 'vmcategory', 'vmcorecountbucket', 'vmmemorybucket']\n",
    "trace_dataframe = pd.read_csv(data_path, header=None, index_col=False,names=headers,delimiter=',')"
   ]
  },
  {
   "cell_type": "code",
   "execution_count": 3,
   "id": "c119f653-3a72-458c-801e-4179881131bc",
   "metadata": {},
   "outputs": [
    {
     "data": {
      "text/html": [
       "<div>\n",
       "<style scoped>\n",
       "    .dataframe tbody tr th:only-of-type {\n",
       "        vertical-align: middle;\n",
       "    }\n",
       "\n",
       "    .dataframe tbody tr th {\n",
       "        vertical-align: top;\n",
       "    }\n",
       "\n",
       "    .dataframe thead th {\n",
       "        text-align: right;\n",
       "    }\n",
       "</style>\n",
       "<table border=\"1\" class=\"dataframe\">\n",
       "  <thead>\n",
       "    <tr style=\"text-align: right;\">\n",
       "      <th></th>\n",
       "      <th>vmid</th>\n",
       "      <th>subscriptionid</th>\n",
       "      <th>deploymentid</th>\n",
       "      <th>vmcreated</th>\n",
       "      <th>vmdeleted</th>\n",
       "      <th>maxcpu</th>\n",
       "      <th>avgcpu</th>\n",
       "      <th>p95maxcpu</th>\n",
       "      <th>vmcategory</th>\n",
       "      <th>vmcorecountbucket</th>\n",
       "      <th>vmmemorybucket</th>\n",
       "    </tr>\n",
       "  </thead>\n",
       "  <tbody>\n",
       "    <tr>\n",
       "      <th>0</th>\n",
       "      <td>71fJw0x+SDRdAxKPwLyHZhTgQpYw2afS6tjJhfT6kHnmLH...</td>\n",
       "      <td>GB6uQC1NSArW5n+TtOybL7GQ1yByjuWtZnsj+5QccZ525R...</td>\n",
       "      <td>2sh/ZjaYdfpslv4iYBfNzFe4rs982kHVvNGJGeQ8MIBCDr...</td>\n",
       "      <td>558300</td>\n",
       "      <td>1673700</td>\n",
       "      <td>91.776885</td>\n",
       "      <td>0.728879</td>\n",
       "      <td>20.759630</td>\n",
       "      <td>Delay-insensitive</td>\n",
       "      <td>8</td>\n",
       "      <td>32</td>\n",
       "    </tr>\n",
       "    <tr>\n",
       "      <th>1</th>\n",
       "      <td>rKggHO/04j31UFy65mDTwtjdMQL/G03xWfl3xGeiilB4/W...</td>\n",
       "      <td>ub4ty8ygwOECrIz7eaZ/9hDwnCsERvZ3nJJ03sDSpD85et...</td>\n",
       "      <td>+ZraIDUNaWYDZMBiBtZm7xSjr+j3zcHGjup1+wyKxHFmyJ...</td>\n",
       "      <td>424500</td>\n",
       "      <td>425400</td>\n",
       "      <td>37.879261</td>\n",
       "      <td>3.325358</td>\n",
       "      <td>37.879261</td>\n",
       "      <td>Unknown</td>\n",
       "      <td>4</td>\n",
       "      <td>32</td>\n",
       "    </tr>\n",
       "    <tr>\n",
       "      <th>2</th>\n",
       "      <td>YrR8gPtBmfNaOdnNEW5If1SdTqQgGQHEnLHGPjySt53bKW...</td>\n",
       "      <td>9LrdYRcUfGbmL2fFfLR/JUg2OTkjGRe3iluwIhDRPnPDPa...</td>\n",
       "      <td>GEyIElfPSFupze8T+T1niQMepeqG88VpLNuxUMyIDbz8VF...</td>\n",
       "      <td>1133100</td>\n",
       "      <td>1133700</td>\n",
       "      <td>0.304368</td>\n",
       "      <td>0.220553</td>\n",
       "      <td>0.304368</td>\n",
       "      <td>Unknown</td>\n",
       "      <td>4</td>\n",
       "      <td>32</td>\n",
       "    </tr>\n",
       "    <tr>\n",
       "      <th>3</th>\n",
       "      <td>xzQ++JF1UAkh70CDhmzkiOo+DQn+E2TLErCFKEmSswv1pl...</td>\n",
       "      <td>0XnZZ8sMN5HY+Yg+0dykYB5oenlgsrCpzpgFSvn/MX42Ze...</td>\n",
       "      <td>7aCQS6fPUw9rwCPiqvghk/WCEbMV3KgNJjA+sssdfY5Ybl...</td>\n",
       "      <td>0</td>\n",
       "      <td>2591400</td>\n",
       "      <td>98.573424</td>\n",
       "      <td>30.340054</td>\n",
       "      <td>98.212503</td>\n",
       "      <td>Interactive</td>\n",
       "      <td>2</td>\n",
       "      <td>4</td>\n",
       "    </tr>\n",
       "    <tr>\n",
       "      <th>4</th>\n",
       "      <td>vZEivnhabRmImDr+JqKqZnpIM3WxtypwoxjfjnklR/idyR...</td>\n",
       "      <td>HUGaZ+piPP4eHjycCBki2yq0raJywdzrVuriR6nQceH3hA...</td>\n",
       "      <td>/s/D5VtTQDxyS6wq7N/VQAMczx61Ny1Ut3a3iFmDSOCXxp...</td>\n",
       "      <td>228300</td>\n",
       "      <td>229800</td>\n",
       "      <td>82.581449</td>\n",
       "      <td>13.876299</td>\n",
       "      <td>82.581449</td>\n",
       "      <td>Unknown</td>\n",
       "      <td>2</td>\n",
       "      <td>4</td>\n",
       "    </tr>\n",
       "  </tbody>\n",
       "</table>\n",
       "</div>"
      ],
      "text/plain": [
       "                                                vmid  \\\n",
       "0  71fJw0x+SDRdAxKPwLyHZhTgQpYw2afS6tjJhfT6kHnmLH...   \n",
       "1  rKggHO/04j31UFy65mDTwtjdMQL/G03xWfl3xGeiilB4/W...   \n",
       "2  YrR8gPtBmfNaOdnNEW5If1SdTqQgGQHEnLHGPjySt53bKW...   \n",
       "3  xzQ++JF1UAkh70CDhmzkiOo+DQn+E2TLErCFKEmSswv1pl...   \n",
       "4  vZEivnhabRmImDr+JqKqZnpIM3WxtypwoxjfjnklR/idyR...   \n",
       "\n",
       "                                      subscriptionid  \\\n",
       "0  GB6uQC1NSArW5n+TtOybL7GQ1yByjuWtZnsj+5QccZ525R...   \n",
       "1  ub4ty8ygwOECrIz7eaZ/9hDwnCsERvZ3nJJ03sDSpD85et...   \n",
       "2  9LrdYRcUfGbmL2fFfLR/JUg2OTkjGRe3iluwIhDRPnPDPa...   \n",
       "3  0XnZZ8sMN5HY+Yg+0dykYB5oenlgsrCpzpgFSvn/MX42Ze...   \n",
       "4  HUGaZ+piPP4eHjycCBki2yq0raJywdzrVuriR6nQceH3hA...   \n",
       "\n",
       "                                        deploymentid  vmcreated  vmdeleted  \\\n",
       "0  2sh/ZjaYdfpslv4iYBfNzFe4rs982kHVvNGJGeQ8MIBCDr...     558300    1673700   \n",
       "1  +ZraIDUNaWYDZMBiBtZm7xSjr+j3zcHGjup1+wyKxHFmyJ...     424500     425400   \n",
       "2  GEyIElfPSFupze8T+T1niQMepeqG88VpLNuxUMyIDbz8VF...    1133100    1133700   \n",
       "3  7aCQS6fPUw9rwCPiqvghk/WCEbMV3KgNJjA+sssdfY5Ybl...          0    2591400   \n",
       "4  /s/D5VtTQDxyS6wq7N/VQAMczx61Ny1Ut3a3iFmDSOCXxp...     228300     229800   \n",
       "\n",
       "      maxcpu     avgcpu  p95maxcpu         vmcategory vmcorecountbucket  \\\n",
       "0  91.776885   0.728879  20.759630  Delay-insensitive                 8   \n",
       "1  37.879261   3.325358  37.879261            Unknown                 4   \n",
       "2   0.304368   0.220553   0.304368            Unknown                 4   \n",
       "3  98.573424  30.340054  98.212503        Interactive                 2   \n",
       "4  82.581449  13.876299  82.581449            Unknown                 2   \n",
       "\n",
       "  vmmemorybucket  \n",
       "0             32  \n",
       "1             32  \n",
       "2             32  \n",
       "3              4  \n",
       "4              4  "
      ]
     },
     "execution_count": 3,
     "metadata": {},
     "output_type": "execute_result"
    }
   ],
   "source": [
    "trace_dataframe.head()"
   ]
  },
  {
   "cell_type": "code",
   "execution_count": 21,
   "id": "7d5ed583-9357-4b7f-9a95-4ab8ed6cdfed",
   "metadata": {},
   "outputs": [
    {
     "data": {
      "text/html": [
       "<div>\n",
       "<style scoped>\n",
       "    .dataframe tbody tr th:only-of-type {\n",
       "        vertical-align: middle;\n",
       "    }\n",
       "\n",
       "    .dataframe tbody tr th {\n",
       "        vertical-align: top;\n",
       "    }\n",
       "\n",
       "    .dataframe thead th {\n",
       "        text-align: right;\n",
       "    }\n",
       "</style>\n",
       "<table border=\"1\" class=\"dataframe\">\n",
       "  <thead>\n",
       "    <tr style=\"text-align: right;\">\n",
       "      <th></th>\n",
       "      <th>vmid</th>\n",
       "      <th>subscriptionid</th>\n",
       "      <th>deploymentid</th>\n",
       "      <th>vmcreated</th>\n",
       "      <th>vmdeleted</th>\n",
       "      <th>maxcpu</th>\n",
       "      <th>avgcpu</th>\n",
       "      <th>p95maxcpu</th>\n",
       "      <th>vmcategory</th>\n",
       "      <th>vmcorecountbucket</th>\n",
       "      <th>vmmemorybucket</th>\n",
       "    </tr>\n",
       "  </thead>\n",
       "  <tbody>\n",
       "    <tr>\n",
       "      <th>2147388</th>\n",
       "      <td>yNf/R3X8fyXkOJm3ihXQcT0F52a8cDWPPRzTT6QFW8N+1Q...</td>\n",
       "      <td>GStyJfehx9FBLRCvqDxCk4Hpxi8bLCol58JJyfnuSEvH4N...</td>\n",
       "      <td>RGHDvmXwj8cETX3k68dVVukX9cnPNMYn6VjPbcvSKKQOxG...</td>\n",
       "      <td>0</td>\n",
       "      <td>963900</td>\n",
       "      <td>80.105755</td>\n",
       "      <td>13.641498</td>\n",
       "      <td>47.415849</td>\n",
       "      <td>Interactive</td>\n",
       "      <td>2</td>\n",
       "      <td>2</td>\n",
       "    </tr>\n",
       "  </tbody>\n",
       "</table>\n",
       "</div>"
      ],
      "text/plain": [
       "                                                      vmid  \\\n",
       "2147388  yNf/R3X8fyXkOJm3ihXQcT0F52a8cDWPPRzTT6QFW8N+1Q...   \n",
       "\n",
       "                                            subscriptionid  \\\n",
       "2147388  GStyJfehx9FBLRCvqDxCk4Hpxi8bLCol58JJyfnuSEvH4N...   \n",
       "\n",
       "                                              deploymentid  vmcreated  \\\n",
       "2147388  RGHDvmXwj8cETX3k68dVVukX9cnPNMYn6VjPbcvSKKQOxG...          0   \n",
       "\n",
       "         vmdeleted     maxcpu     avgcpu  p95maxcpu   vmcategory  \\\n",
       "2147388     963900  80.105755  13.641498  47.415849  Interactive   \n",
       "\n",
       "        vmcorecountbucket vmmemorybucket  \n",
       "2147388                 2              2  "
      ]
     },
     "execution_count": 21,
     "metadata": {},
     "output_type": "execute_result"
    }
   ],
   "source": [
    "trace_dataframe[trace_dataframe[\"vmid\"] == 'yNf/R3X8fyXkOJm3ihXQcT0F52a8cDWPPRzTT6QFW8N+1QPfeKR5//6xyX0VYn7X']"
   ]
  },
  {
   "cell_type": "code",
   "execution_count": 8,
   "id": "0a9c6800-111b-4be6-bbb3-5e59a95822c2",
   "metadata": {},
   "outputs": [
    {
     "data": {
      "text/plain": [
       "2695548"
      ]
     },
     "execution_count": 8,
     "metadata": {},
     "output_type": "execute_result"
    }
   ],
   "source": [
    "len(trace_dataframe)"
   ]
  },
  {
   "cell_type": "code",
   "execution_count": 22,
   "id": "3b4f2262-dc5f-475d-8c38-094a9d982118",
   "metadata": {},
   "outputs": [],
   "source": [
    "# data_path = \n",
    "reading_headers = ['timestamp', 'vmid', 'mincpu', 'maxcpu', 'avgcpu']\n",
    "# headers = ['vmid','subscriptionid','deploymentid','vmcreated', 'vmdeleted', 'maxcpu', 'avgcpu', 'p95maxcpu', 'vmcategory', 'vmcorecountbucket', 'vmmemorybucket']\n",
    "df = pd.read_csv('/home/rayandrew/Data/azure-data/vm_cpu_readings-file-1-of-195.csv.gz', header=None, names=reading_headers, index_col=False, delimiter=',')"
   ]
  },
  {
   "cell_type": "code",
   "execution_count": 23,
   "id": "20f9fffe-a5cc-4ca3-b868-a44bdc4a4ad3",
   "metadata": {},
   "outputs": [
    {
     "data": {
      "text/html": [
       "<div>\n",
       "<style scoped>\n",
       "    .dataframe tbody tr th:only-of-type {\n",
       "        vertical-align: middle;\n",
       "    }\n",
       "\n",
       "    .dataframe tbody tr th {\n",
       "        vertical-align: top;\n",
       "    }\n",
       "\n",
       "    .dataframe thead th {\n",
       "        text-align: right;\n",
       "    }\n",
       "</style>\n",
       "<table border=\"1\" class=\"dataframe\">\n",
       "  <thead>\n",
       "    <tr style=\"text-align: right;\">\n",
       "      <th></th>\n",
       "      <th>timestamp</th>\n",
       "      <th>vmid</th>\n",
       "      <th>mincpu</th>\n",
       "      <th>maxcpu</th>\n",
       "      <th>avgcpu</th>\n",
       "    </tr>\n",
       "  </thead>\n",
       "  <tbody>\n",
       "    <tr>\n",
       "      <th>0</th>\n",
       "      <td>0</td>\n",
       "      <td>yNf/R3X8fyXkOJm3ihXQcT0F52a8cDWPPRzTT6QFW8N+1Q...</td>\n",
       "      <td>19.898441</td>\n",
       "      <td>24.996361</td>\n",
       "      <td>22.630673</td>\n",
       "    </tr>\n",
       "    <tr>\n",
       "      <th>1</th>\n",
       "      <td>0</td>\n",
       "      <td>gVb4X4iS13nJrM0KZsy7SrHzWAHix0CEPlK7/deV5vkwjt...</td>\n",
       "      <td>14.281488</td>\n",
       "      <td>20.028324</td>\n",
       "      <td>17.250655</td>\n",
       "    </tr>\n",
       "    <tr>\n",
       "      <th>2</th>\n",
       "      <td>0</td>\n",
       "      <td>f8BtQHczrXFjnVxWl8Hqm1kH9UD/8nCvtXCLiFvVRvamqa...</td>\n",
       "      <td>1.655368</td>\n",
       "      <td>23.138685</td>\n",
       "      <td>8.533818</td>\n",
       "    </tr>\n",
       "    <tr>\n",
       "      <th>3</th>\n",
       "      <td>0</td>\n",
       "      <td>8xjtVrJRJAyArNlbRgCftoNQOZiWl2eRP6uQavL9+6IULT...</td>\n",
       "      <td>47.501061</td>\n",
       "      <td>52.940579</td>\n",
       "      <td>50.045584</td>\n",
       "    </tr>\n",
       "    <tr>\n",
       "      <th>4</th>\n",
       "      <td>0</td>\n",
       "      <td>zTE3f0H2n43tW+PA3OdonjUTWWxeyzF7xJk9QH9s/487J/...</td>\n",
       "      <td>1.724155</td>\n",
       "      <td>12.889580</td>\n",
       "      <td>4.833578</td>\n",
       "    </tr>\n",
       "  </tbody>\n",
       "</table>\n",
       "</div>"
      ],
      "text/plain": [
       "   timestamp                                               vmid     mincpu  \\\n",
       "0          0  yNf/R3X8fyXkOJm3ihXQcT0F52a8cDWPPRzTT6QFW8N+1Q...  19.898441   \n",
       "1          0  gVb4X4iS13nJrM0KZsy7SrHzWAHix0CEPlK7/deV5vkwjt...  14.281488   \n",
       "2          0  f8BtQHczrXFjnVxWl8Hqm1kH9UD/8nCvtXCLiFvVRvamqa...   1.655368   \n",
       "3          0  8xjtVrJRJAyArNlbRgCftoNQOZiWl2eRP6uQavL9+6IULT...  47.501061   \n",
       "4          0  zTE3f0H2n43tW+PA3OdonjUTWWxeyzF7xJk9QH9s/487J/...   1.724155   \n",
       "\n",
       "      maxcpu     avgcpu  \n",
       "0  24.996361  22.630673  \n",
       "1  20.028324  17.250655  \n",
       "2  23.138685   8.533818  \n",
       "3  52.940579  50.045584  \n",
       "4  12.889580   4.833578  "
      ]
     },
     "execution_count": 23,
     "metadata": {},
     "output_type": "execute_result"
    }
   ],
   "source": [
    "df.head()"
   ]
  },
  {
   "cell_type": "code",
   "execution_count": 17,
   "id": "41b8266e-aa3d-40f9-addd-ce20f1e8a25a",
   "metadata": {},
   "outputs": [
    {
     "data": {
      "text/plain": [
       "<Axes: >"
      ]
     },
     "execution_count": 17,
     "metadata": {},
     "output_type": "execute_result"
    },
    {
     "data": {
      "image/png": "[encoded data removed]",
      "text/plain": [
       "<Figure size 640x480 with 1 Axes>"
      ]
     },
     "metadata": {},
     "output_type": "display_data"
    }
   ],
   "source": [
    "df[df[1]== 'yNf/R3X8fyXkOJm3ihXQcT0F52a8cDWPPRzTT6QFW8N+1QPfeKR5//6xyX0VYn7X'][4]"
   ]
  },
  {
   "cell_type": "code",
   "execution_count": 19,
   "id": "cdff6cd9-6961-4593-9217-5e42356c9ebe",
   "metadata": {},
   "outputs": [
    {
     "ename": "ValueError",
     "evalue": "Could not interpret value `4` for parameter `y`",
     "output_type": "error",
     "traceback": [
      "\u001b[0;31m---------------------------------------------------------------------------\u001b[0m",
      "\u001b[0;31mValueError\u001b[0m                                Traceback (most recent call last)",
      "Cell \u001b[0;32mIn[19], line 1\u001b[0m\n\u001b[0;32m----> 1\u001b[0m \u001b[43msns\u001b[49m\u001b[38;5;241;43m.\u001b[39;49m\u001b[43mecdfplot\u001b[49m\u001b[43m(\u001b[49m\u001b[43mdata\u001b[49m\u001b[38;5;241;43m=\u001b[39;49m\u001b[43mdf\u001b[49m\u001b[43m[\u001b[49m\u001b[43mdf\u001b[49m\u001b[43m[\u001b[49m\u001b[38;5;241;43m1\u001b[39;49m\u001b[43m]\u001b[49m\u001b[38;5;241;43m==\u001b[39;49m\u001b[43m \u001b[49m\u001b[38;5;124;43m'\u001b[39;49m\u001b[38;5;124;43myNf/R3X8fyXkOJm3ihXQcT0F52a8cDWPPRzTT6QFW8N+1QPfeKR5//6xyX0VYn7X\u001b[39;49m\u001b[38;5;124;43m'\u001b[39;49m\u001b[43m]\u001b[49m\u001b[43m,\u001b[49m\u001b[43m \u001b[49m\u001b[43my\u001b[49m\u001b[38;5;241;43m=\u001b[39;49m\u001b[38;5;124;43m\"\u001b[39;49m\u001b[38;5;124;43m4\u001b[39;49m\u001b[38;5;124;43m\"\u001b[39;49m\u001b[43m)\u001b[49m\n",
      "File \u001b[0;32m~/.conda/envs/acl/lib/python3.10/site-packages/seaborn/distributions.py:1891\u001b[0m, in \u001b[0;36mecdfplot\u001b[0;34m(data, x, y, hue, weights, stat, complementary, palette, hue_order, hue_norm, log_scale, legend, ax, **kwargs)\u001b[0m\n\u001b[1;32m   1877\u001b[0m \u001b[38;5;28;01mdef\u001b[39;00m \u001b[38;5;21mecdfplot\u001b[39m(\n\u001b[1;32m   1878\u001b[0m     data\u001b[38;5;241m=\u001b[39m\u001b[38;5;28;01mNone\u001b[39;00m, \u001b[38;5;241m*\u001b[39m,\n\u001b[1;32m   1879\u001b[0m     \u001b[38;5;66;03m# Vector variables\u001b[39;00m\n\u001b[0;32m   (...)\u001b[0m\n\u001b[1;32m   1888\u001b[0m     \u001b[38;5;241m*\u001b[39m\u001b[38;5;241m*\u001b[39mkwargs,\n\u001b[1;32m   1889\u001b[0m ):\n\u001b[0;32m-> 1891\u001b[0m     p \u001b[38;5;241m=\u001b[39m \u001b[43m_DistributionPlotter\u001b[49m\u001b[43m(\u001b[49m\n\u001b[1;32m   1892\u001b[0m \u001b[43m        \u001b[49m\u001b[43mdata\u001b[49m\u001b[38;5;241;43m=\u001b[39;49m\u001b[43mdata\u001b[49m\u001b[43m,\u001b[49m\n\u001b[1;32m   1893\u001b[0m \u001b[43m        \u001b[49m\u001b[43mvariables\u001b[49m\u001b[38;5;241;43m=\u001b[39;49m\u001b[43m_DistributionPlotter\u001b[49m\u001b[38;5;241;43m.\u001b[39;49m\u001b[43mget_semantics\u001b[49m\u001b[43m(\u001b[49m\u001b[38;5;28;43mlocals\u001b[39;49m\u001b[43m(\u001b[49m\u001b[43m)\u001b[49m\u001b[43m)\u001b[49m\n\u001b[1;32m   1894\u001b[0m \u001b[43m    \u001b[49m\u001b[43m)\u001b[49m\n\u001b[1;32m   1896\u001b[0m     p\u001b[38;5;241m.\u001b[39mmap_hue(palette\u001b[38;5;241m=\u001b[39mpalette, order\u001b[38;5;241m=\u001b[39mhue_order, norm\u001b[38;5;241m=\u001b[39mhue_norm)\n\u001b[1;32m   1898\u001b[0m     \u001b[38;5;66;03m# We could support other semantics (size, style) here fairly easily\u001b[39;00m\n\u001b[1;32m   1899\u001b[0m     \u001b[38;5;66;03m# But it would make distplot a bit more complicated.\u001b[39;00m\n\u001b[1;32m   1900\u001b[0m     \u001b[38;5;66;03m# It's always possible to add features like that later, so I am going to defer.\u001b[39;00m\n\u001b[1;32m   1901\u001b[0m     \u001b[38;5;66;03m# It will be even easier to wait until after there is a more general/abstract\u001b[39;00m\n\u001b[1;32m   1902\u001b[0m     \u001b[38;5;66;03m# way to go from semantic specs to artist attributes.\u001b[39;00m\n",
      "File \u001b[0;32m~/.conda/envs/acl/lib/python3.10/site-packages/seaborn/distributions.py:113\u001b[0m, in \u001b[0;36m_DistributionPlotter.__init__\u001b[0;34m(self, data, variables)\u001b[0m\n\u001b[1;32m    107\u001b[0m \u001b[38;5;28;01mdef\u001b[39;00m \u001b[38;5;21m__init__\u001b[39m(\n\u001b[1;32m    108\u001b[0m     \u001b[38;5;28mself\u001b[39m,\n\u001b[1;32m    109\u001b[0m     data\u001b[38;5;241m=\u001b[39m\u001b[38;5;28;01mNone\u001b[39;00m,\n\u001b[1;32m    110\u001b[0m     variables\u001b[38;5;241m=\u001b[39m{},\n\u001b[1;32m    111\u001b[0m ):\n\u001b[0;32m--> 113\u001b[0m     \u001b[38;5;28;43msuper\u001b[39;49m\u001b[43m(\u001b[49m\u001b[43m)\u001b[49m\u001b[38;5;241;43m.\u001b[39;49m\u001b[38;5;21;43m__init__\u001b[39;49m\u001b[43m(\u001b[49m\u001b[43mdata\u001b[49m\u001b[38;5;241;43m=\u001b[39;49m\u001b[43mdata\u001b[49m\u001b[43m,\u001b[49m\u001b[43m \u001b[49m\u001b[43mvariables\u001b[49m\u001b[38;5;241;43m=\u001b[39;49m\u001b[43mvariables\u001b[49m\u001b[43m)\u001b[49m\n",
      "File \u001b[0;32m~/.conda/envs/acl/lib/python3.10/site-packages/seaborn/_oldcore.py:640\u001b[0m, in \u001b[0;36mVectorPlotter.__init__\u001b[0;34m(self, data, variables)\u001b[0m\n\u001b[1;32m    635\u001b[0m \u001b[38;5;66;03m# var_ordered is relevant only for categorical axis variables, and may\u001b[39;00m\n\u001b[1;32m    636\u001b[0m \u001b[38;5;66;03m# be better handled by an internal axis information object that tracks\u001b[39;00m\n\u001b[1;32m    637\u001b[0m \u001b[38;5;66;03m# such information and is set up by the scale_* methods. The analogous\u001b[39;00m\n\u001b[1;32m    638\u001b[0m \u001b[38;5;66;03m# information for numeric axes would be information about log scales.\u001b[39;00m\n\u001b[1;32m    639\u001b[0m \u001b[38;5;28mself\u001b[39m\u001b[38;5;241m.\u001b[39m_var_ordered \u001b[38;5;241m=\u001b[39m {\u001b[38;5;124m\"\u001b[39m\u001b[38;5;124mx\u001b[39m\u001b[38;5;124m\"\u001b[39m: \u001b[38;5;28;01mFalse\u001b[39;00m, \u001b[38;5;124m\"\u001b[39m\u001b[38;5;124my\u001b[39m\u001b[38;5;124m\"\u001b[39m: \u001b[38;5;28;01mFalse\u001b[39;00m}  \u001b[38;5;66;03m# alt., used DefaultDict\u001b[39;00m\n\u001b[0;32m--> 640\u001b[0m \u001b[38;5;28;43mself\u001b[39;49m\u001b[38;5;241;43m.\u001b[39;49m\u001b[43massign_variables\u001b[49m\u001b[43m(\u001b[49m\u001b[43mdata\u001b[49m\u001b[43m,\u001b[49m\u001b[43m \u001b[49m\u001b[43mvariables\u001b[49m\u001b[43m)\u001b[49m\n\u001b[1;32m    642\u001b[0m \u001b[38;5;28;01mfor\u001b[39;00m var, \u001b[38;5;28mcls\u001b[39m \u001b[38;5;129;01min\u001b[39;00m \u001b[38;5;28mself\u001b[39m\u001b[38;5;241m.\u001b[39m_semantic_mappings\u001b[38;5;241m.\u001b[39mitems():\n\u001b[1;32m    643\u001b[0m \n\u001b[1;32m    644\u001b[0m     \u001b[38;5;66;03m# Create the mapping function\u001b[39;00m\n\u001b[1;32m    645\u001b[0m     map_func \u001b[38;5;241m=\u001b[39m partial(\u001b[38;5;28mcls\u001b[39m\u001b[38;5;241m.\u001b[39mmap, plotter\u001b[38;5;241m=\u001b[39m\u001b[38;5;28mself\u001b[39m)\n",
      "File \u001b[0;32m~/.conda/envs/acl/lib/python3.10/site-packages/seaborn/_oldcore.py:701\u001b[0m, in \u001b[0;36mVectorPlotter.assign_variables\u001b[0;34m(self, data, variables)\u001b[0m\n\u001b[1;32m    699\u001b[0m \u001b[38;5;28;01melse\u001b[39;00m:\n\u001b[1;32m    700\u001b[0m     \u001b[38;5;28mself\u001b[39m\u001b[38;5;241m.\u001b[39minput_format \u001b[38;5;241m=\u001b[39m \u001b[38;5;124m\"\u001b[39m\u001b[38;5;124mlong\u001b[39m\u001b[38;5;124m\"\u001b[39m\n\u001b[0;32m--> 701\u001b[0m     plot_data, variables \u001b[38;5;241m=\u001b[39m \u001b[38;5;28;43mself\u001b[39;49m\u001b[38;5;241;43m.\u001b[39;49m\u001b[43m_assign_variables_longform\u001b[49m\u001b[43m(\u001b[49m\n\u001b[1;32m    702\u001b[0m \u001b[43m        \u001b[49m\u001b[43mdata\u001b[49m\u001b[43m,\u001b[49m\u001b[43m \u001b[49m\u001b[38;5;241;43m*\u001b[39;49m\u001b[38;5;241;43m*\u001b[39;49m\u001b[43mvariables\u001b[49m\u001b[43m,\u001b[49m\n\u001b[1;32m    703\u001b[0m \u001b[43m    \u001b[49m\u001b[43m)\u001b[49m\n\u001b[1;32m    705\u001b[0m \u001b[38;5;28mself\u001b[39m\u001b[38;5;241m.\u001b[39mplot_data \u001b[38;5;241m=\u001b[39m plot_data\n\u001b[1;32m    706\u001b[0m \u001b[38;5;28mself\u001b[39m\u001b[38;5;241m.\u001b[39mvariables \u001b[38;5;241m=\u001b[39m variables\n",
      "File \u001b[0;32m~/.conda/envs/acl/lib/python3.10/site-packages/seaborn/_oldcore.py:938\u001b[0m, in \u001b[0;36mVectorPlotter._assign_variables_longform\u001b[0;34m(self, data, **kwargs)\u001b[0m\n\u001b[1;32m    933\u001b[0m \u001b[38;5;28;01melif\u001b[39;00m \u001b[38;5;28misinstance\u001b[39m(val, (\u001b[38;5;28mstr\u001b[39m, \u001b[38;5;28mbytes\u001b[39m)):\n\u001b[1;32m    934\u001b[0m \n\u001b[1;32m    935\u001b[0m     \u001b[38;5;66;03m# This looks like a column name but we don't know what it means!\u001b[39;00m\n\u001b[1;32m    937\u001b[0m     err \u001b[38;5;241m=\u001b[39m \u001b[38;5;124mf\u001b[39m\u001b[38;5;124m\"\u001b[39m\u001b[38;5;124mCould not interpret value `\u001b[39m\u001b[38;5;132;01m{\u001b[39;00mval\u001b[38;5;132;01m}\u001b[39;00m\u001b[38;5;124m` for parameter `\u001b[39m\u001b[38;5;132;01m{\u001b[39;00mkey\u001b[38;5;132;01m}\u001b[39;00m\u001b[38;5;124m`\u001b[39m\u001b[38;5;124m\"\u001b[39m\n\u001b[0;32m--> 938\u001b[0m     \u001b[38;5;28;01mraise\u001b[39;00m \u001b[38;5;167;01mValueError\u001b[39;00m(err)\n\u001b[1;32m    940\u001b[0m \u001b[38;5;28;01melse\u001b[39;00m:\n\u001b[1;32m    941\u001b[0m \n\u001b[1;32m    942\u001b[0m     \u001b[38;5;66;03m# Otherwise, assume the value is itself data\u001b[39;00m\n\u001b[1;32m    943\u001b[0m \n\u001b[1;32m    944\u001b[0m     \u001b[38;5;66;03m# Raise when data object is present and a vector can't matched\u001b[39;00m\n\u001b[1;32m    945\u001b[0m     \u001b[38;5;28;01mif\u001b[39;00m \u001b[38;5;28misinstance\u001b[39m(data, pd\u001b[38;5;241m.\u001b[39mDataFrame) \u001b[38;5;129;01mand\u001b[39;00m \u001b[38;5;129;01mnot\u001b[39;00m \u001b[38;5;28misinstance\u001b[39m(val, pd\u001b[38;5;241m.\u001b[39mSeries):\n",
      "\u001b[0;31mValueError\u001b[0m: Could not interpret value `4` for parameter `y`"
     ]
    }
   ],
   "source": [
    "sns.ecdfplot(data=, y=\"4\")"
   ]
  },
  {
   "cell_type": "code",
   "execution_count": null,
   "id": "d50aedba-a470-4554-bed1-40c380163005",
   "metadata": {},
   "outputs": [],
   "source": []
  }
 ],
 "metadata": {
  "kernelspec": {
   "display_name": "Python 3 (ipykernel)",
   "language": "python",
   "name": "python3"
  },
  "language_info": {
   "codemirror_mode": {
    "name": "ipython",
    "version": 3
   },
   "file_extension": ".py",
   "mimetype": "text/x-python",
   "name": "python",
   "nbconvert_exporter": "python",
   "pygments_lexer": "ipython3",
   "version": "3.10.12"
  }
 },
 "nbformat": 4,
 "nbformat_minor": 5
}
