{
 "cells": [
  {
   "cell_type": "code",
   "execution_count": 1,
   "id": "554777f5-fd19-46bb-81ad-20e6941a970b",
   "metadata": {},
   "outputs": [],
   "source": [
    "import pandas as pd\n",
    "import matplotlib.pyplot as plt\n",
    "import seaborn as sns"
   ]
  },
  {
   "cell_type": "code",
   "execution_count": 2,
   "id": "5cb1d8ce-892e-40e4-8a29-5f25ab485ea9",
   "metadata": {},
   "outputs": [
    {
     "ename": "FileNotFoundError",
     "evalue": "[Errno 2] No such file or directory: '../raw_data/alibaba/container.parquet'",
     "output_type": "error",
     "traceback": [
      "\u001b[0;31m---------------------------------------------------------------------------\u001b[0m",
      "\u001b[0;31mFileNotFoundError\u001b[0m                         Traceback (most recent call last)",
      "Cell \u001b[0;32mIn[2], line 1\u001b[0m\n\u001b[0;32m----> 1\u001b[0m df \u001b[38;5;241m=\u001b[39m \u001b[43mpd\u001b[49m\u001b[38;5;241;43m.\u001b[39;49m\u001b[43mread_parquet\u001b[49m\u001b[43m(\u001b[49m\u001b[38;5;124;43m\"\u001b[39;49m\u001b[38;5;124;43m../raw_data/alibaba/container.parquet\u001b[39;49m\u001b[38;5;124;43m\"\u001b[39;49m\u001b[43m,\u001b[49m\u001b[43m \u001b[49m\u001b[43mengine\u001b[49m\u001b[38;5;241;43m=\u001b[39;49m\u001b[38;5;124;43m\"\u001b[39;49m\u001b[38;5;124;43mfastparquet\u001b[39;49m\u001b[38;5;124;43m\"\u001b[39;49m\u001b[43m)\u001b[49m\n\u001b[1;32m      2\u001b[0m df \u001b[38;5;241m=\u001b[39m df\u001b[38;5;241m.\u001b[39msort_values(by\u001b[38;5;241m=\u001b[39m[\u001b[38;5;124m\"\u001b[39m\u001b[38;5;124mtime_stamp\u001b[39m\u001b[38;5;124m\"\u001b[39m])\u001b[38;5;241m.\u001b[39mreset_index(drop\u001b[38;5;241m=\u001b[39m\u001b[38;5;28;01mTrue\u001b[39;00m)\n\u001b[1;32m      3\u001b[0m df \u001b[38;5;241m=\u001b[39m df[df[\u001b[38;5;124m'\u001b[39m\u001b[38;5;124mplan_cpu\u001b[39m\u001b[38;5;124m'\u001b[39m]\u001b[38;5;241m.\u001b[39mnotna() \u001b[38;5;241m&\u001b[39m df[\u001b[38;5;124m'\u001b[39m\u001b[38;5;124mplan_mem\u001b[39m\u001b[38;5;124m'\u001b[39m]\u001b[38;5;241m.\u001b[39mnotna() \u001b[38;5;241m&\u001b[39m (df\u001b[38;5;241m.\u001b[39mcpu_util_percent \u001b[38;5;241m>\u001b[39m \u001b[38;5;241m0\u001b[39m) \u001b[38;5;241m&\u001b[39m (df\u001b[38;5;241m.\u001b[39mcpu_util_percent \u001b[38;5;241m<\u001b[39m\u001b[38;5;241m=\u001b[39m \u001b[38;5;241m100\u001b[39m)]\n",
      "File \u001b[0;32m~/.conda/envs/acl/lib/python3.10/site-packages/pandas/io/parquet.py:509\u001b[0m, in \u001b[0;36mread_parquet\u001b[0;34m(path, engine, columns, storage_options, use_nullable_dtypes, dtype_backend, **kwargs)\u001b[0m\n\u001b[1;32m    506\u001b[0m     use_nullable_dtypes \u001b[38;5;241m=\u001b[39m \u001b[38;5;28;01mFalse\u001b[39;00m\n\u001b[1;32m    507\u001b[0m check_dtype_backend(dtype_backend)\n\u001b[0;32m--> 509\u001b[0m \u001b[38;5;28;01mreturn\u001b[39;00m \u001b[43mimpl\u001b[49m\u001b[38;5;241;43m.\u001b[39;49m\u001b[43mread\u001b[49m\u001b[43m(\u001b[49m\n\u001b[1;32m    510\u001b[0m \u001b[43m    \u001b[49m\u001b[43mpath\u001b[49m\u001b[43m,\u001b[49m\n\u001b[1;32m    511\u001b[0m \u001b[43m    \u001b[49m\u001b[43mcolumns\u001b[49m\u001b[38;5;241;43m=\u001b[39;49m\u001b[43mcolumns\u001b[49m\u001b[43m,\u001b[49m\n\u001b[1;32m    512\u001b[0m \u001b[43m    \u001b[49m\u001b[43mstorage_options\u001b[49m\u001b[38;5;241;43m=\u001b[39;49m\u001b[43mstorage_options\u001b[49m\u001b[43m,\u001b[49m\n\u001b[1;32m    513\u001b[0m \u001b[43m    \u001b[49m\u001b[43muse_nullable_dtypes\u001b[49m\u001b[38;5;241;43m=\u001b[39;49m\u001b[43muse_nullable_dtypes\u001b[49m\u001b[43m,\u001b[49m\n\u001b[1;32m    514\u001b[0m \u001b[43m    \u001b[49m\u001b[43mdtype_backend\u001b[49m\u001b[38;5;241;43m=\u001b[39;49m\u001b[43mdtype_backend\u001b[49m\u001b[43m,\u001b[49m\n\u001b[1;32m    515\u001b[0m \u001b[43m    \u001b[49m\u001b[38;5;241;43m*\u001b[39;49m\u001b[38;5;241;43m*\u001b[39;49m\u001b[43mkwargs\u001b[49m\u001b[43m,\u001b[49m\n\u001b[1;32m    516\u001b[0m \u001b[43m\u001b[49m\u001b[43m)\u001b[49m\n",
      "File \u001b[0;32m~/.conda/envs/acl/lib/python3.10/site-packages/pandas/io/parquet.py:332\u001b[0m, in \u001b[0;36mFastParquetImpl.read\u001b[0;34m(self, path, columns, storage_options, **kwargs)\u001b[0m\n\u001b[1;32m    325\u001b[0m         parquet_kwargs[\u001b[38;5;124m\"\u001b[39m\u001b[38;5;124mopen_with\u001b[39m\u001b[38;5;124m\"\u001b[39m] \u001b[38;5;241m=\u001b[39m \u001b[38;5;28;01mlambda\u001b[39;00m path, _: fsspec\u001b[38;5;241m.\u001b[39mopen(\n\u001b[1;32m    326\u001b[0m             path, \u001b[38;5;124m\"\u001b[39m\u001b[38;5;124mrb\u001b[39m\u001b[38;5;124m\"\u001b[39m, \u001b[38;5;241m*\u001b[39m\u001b[38;5;241m*\u001b[39m(storage_options \u001b[38;5;129;01mor\u001b[39;00m {})\n\u001b[1;32m    327\u001b[0m         )\u001b[38;5;241m.\u001b[39mopen()\n\u001b[1;32m    328\u001b[0m \u001b[38;5;28;01melif\u001b[39;00m \u001b[38;5;28misinstance\u001b[39m(path, \u001b[38;5;28mstr\u001b[39m) \u001b[38;5;129;01mand\u001b[39;00m \u001b[38;5;129;01mnot\u001b[39;00m os\u001b[38;5;241m.\u001b[39mpath\u001b[38;5;241m.\u001b[39misdir(path):\n\u001b[1;32m    329\u001b[0m     \u001b[38;5;66;03m# use get_handle only when we are very certain that it is not a directory\u001b[39;00m\n\u001b[1;32m    330\u001b[0m     \u001b[38;5;66;03m# fsspec resources can also point to directories\u001b[39;00m\n\u001b[1;32m    331\u001b[0m     \u001b[38;5;66;03m# this branch is used for example when reading from non-fsspec URLs\u001b[39;00m\n\u001b[0;32m--> 332\u001b[0m     handles \u001b[38;5;241m=\u001b[39m \u001b[43mget_handle\u001b[49m\u001b[43m(\u001b[49m\n\u001b[1;32m    333\u001b[0m \u001b[43m        \u001b[49m\u001b[43mpath\u001b[49m\u001b[43m,\u001b[49m\u001b[43m \u001b[49m\u001b[38;5;124;43m\"\u001b[39;49m\u001b[38;5;124;43mrb\u001b[39;49m\u001b[38;5;124;43m\"\u001b[39;49m\u001b[43m,\u001b[49m\u001b[43m \u001b[49m\u001b[43mis_text\u001b[49m\u001b[38;5;241;43m=\u001b[39;49m\u001b[38;5;28;43;01mFalse\u001b[39;49;00m\u001b[43m,\u001b[49m\u001b[43m \u001b[49m\u001b[43mstorage_options\u001b[49m\u001b[38;5;241;43m=\u001b[39;49m\u001b[43mstorage_options\u001b[49m\n\u001b[1;32m    334\u001b[0m \u001b[43m    \u001b[49m\u001b[43m)\u001b[49m\n\u001b[1;32m    335\u001b[0m     path \u001b[38;5;241m=\u001b[39m handles\u001b[38;5;241m.\u001b[39mhandle\n\u001b[1;32m    337\u001b[0m \u001b[38;5;28;01mtry\u001b[39;00m:\n",
      "File \u001b[0;32m~/.conda/envs/acl/lib/python3.10/site-packages/pandas/io/common.py:868\u001b[0m, in \u001b[0;36mget_handle\u001b[0;34m(path_or_buf, mode, encoding, compression, memory_map, is_text, errors, storage_options)\u001b[0m\n\u001b[1;32m    859\u001b[0m         handle \u001b[38;5;241m=\u001b[39m \u001b[38;5;28mopen\u001b[39m(\n\u001b[1;32m    860\u001b[0m             handle,\n\u001b[1;32m    861\u001b[0m             ioargs\u001b[38;5;241m.\u001b[39mmode,\n\u001b[0;32m   (...)\u001b[0m\n\u001b[1;32m    864\u001b[0m             newline\u001b[38;5;241m=\u001b[39m\u001b[38;5;124m\"\u001b[39m\u001b[38;5;124m\"\u001b[39m,\n\u001b[1;32m    865\u001b[0m         )\n\u001b[1;32m    866\u001b[0m     \u001b[38;5;28;01melse\u001b[39;00m:\n\u001b[1;32m    867\u001b[0m         \u001b[38;5;66;03m# Binary mode\u001b[39;00m\n\u001b[0;32m--> 868\u001b[0m         handle \u001b[38;5;241m=\u001b[39m \u001b[38;5;28;43mopen\u001b[39;49m\u001b[43m(\u001b[49m\u001b[43mhandle\u001b[49m\u001b[43m,\u001b[49m\u001b[43m \u001b[49m\u001b[43mioargs\u001b[49m\u001b[38;5;241;43m.\u001b[39;49m\u001b[43mmode\u001b[49m\u001b[43m)\u001b[49m\n\u001b[1;32m    869\u001b[0m     handles\u001b[38;5;241m.\u001b[39mappend(handle)\n\u001b[1;32m    871\u001b[0m \u001b[38;5;66;03m# Convert BytesIO or file objects passed with an encoding\u001b[39;00m\n",
      "\u001b[0;31mFileNotFoundError\u001b[0m: [Errno 2] No such file or directory: '../raw_data/alibaba/container.parquet'"
     ]
    }
   ],
   "source": [
    "df = pd.read_parquet(\"../raw_data/alibaba/container.parquet\", engine=\"fastparquet\")\n",
    "df = df.sort_values(by=[\"time_stamp\"]).reset_index(drop=True)\n",
    "df = df[df['plan_cpu'].notna() & df['plan_mem'].notna() & (df.cpu_util_percent > 0) & (df.cpu_util_percent <= 100)]\n",
    "df = df.reset_index(drop=True)\n",
    "df[\"x\"] = df.index"
   ]
  },
  {
   "cell_type": "code",
   "execution_count": null,
   "id": "9dc4c6bc-6738-4d44-9046-09506035be32",
   "metadata": {},
   "outputs": [],
   "source": []
  },
  {
   "cell_type": "code",
   "execution_count": 3,
   "id": "6a35b861-1c47-49a3-a3d6-339848f1f278",
   "metadata": {},
   "outputs": [
    {
     "data": {
      "text/plain": [
       "Index(['time_stamp', 'instance_id', 'cpu_util_percent', 'mem_util_percent',\n",
       "       'disk_util_percent', 'avg_cpu_1_min', 'avg_cpu_5_min', 'avg_cpu_15_min',\n",
       "       'avg_cpi', 'avg_cache_miss', 'max_cpi', 'max_cache_miss', 'event_type',\n",
       "       'machine_id', 'plan_cpu', 'plan_mem', 'plan_disk', 'cpu_set', 'x'],\n",
       "      dtype='object')"
      ]
     },
     "execution_count": 3,
     "metadata": {},
     "output_type": "execute_result"
    }
   ],
   "source": [
    "df.columns"
   ]
  },
  {
   "cell_type": "code",
   "execution_count": null,
   "id": "c584abca-2a2a-4222-bc87-edd470e56fd4",
   "metadata": {},
   "outputs": [],
   "source": [
    "\n",
    "df[:100].cpu_util_percent.plot(figsize=(12,4))\n",
    "# df[:100].plot.scatter(x=\"x\", y=\"cpu_util_percent\", figsize=(12,4))"
   ]
  },
  {
   "cell_type": "code",
   "execution_count": null,
   "id": "1131848c-e6d0-474e-977c-ff5a3efd5cb5",
   "metadata": {},
   "outputs": [],
   "source": [
    "df.cpu_util_percent.plot(figsize=(12,4))"
   ]
  },
  {
   "cell_type": "code",
   "execution_count": null,
   "id": "c52c6426-c07c-483c-9438-b53a7c83fb0f",
   "metadata": {},
   "outputs": [],
   "source": [
    "# df.cpu_util_percent.plot(figsize=(12,4))\n",
    "df.plot.scatter(x=\"x\", y=\"cpu_util_percent\", figsize=(12,4))"
   ]
  },
  {
   "cell_type": "code",
   "execution_count": null,
   "id": "142bfdf6-8fad-4030-8302-d14e1519040b",
   "metadata": {},
   "outputs": [],
   "source": [
    "df.avg_cpu_1_min.plot(figsize=(12,4))"
   ]
  },
  {
   "cell_type": "code",
   "execution_count": null,
   "id": "08fb85e7-f3b5-4b96-a61b-7a2ab8559145",
   "metadata": {},
   "outputs": [],
   "source": [
    "df.avg_cpu_5_min.plot(figsize=(12,4))"
   ]
  },
  {
   "cell_type": "code",
   "execution_count": null,
   "id": "13facfd4-296b-410f-8573-3e81bcc5815f",
   "metadata": {},
   "outputs": [],
   "source": [
    "df.avg_cpu_15_min.plot(figsize=(12,4))"
   ]
  },
  {
   "cell_type": "code",
   "execution_count": null,
   "id": "ad2c122e-929f-42c0-9a49-88252bee118c",
   "metadata": {},
   "outputs": [],
   "source": [
    "# df_2018 = pd.read_parquet(\"../raw_data/alibaba-2018/chunk-0.parquet\", engine=\"fastparquet\")\n",
    "# df_2018 = df_2018.sort_values(by=[\"instance_start_time\"]).reset_index(drop=True)\n",
    "# df_2018 = df_2018[(df_2018.cpu_max > 0) & (df_2018.cpu_avg > 0)]\n",
    "# df_2018 = df_2018.reset_index(drop=True)\n",
    "# df_2018[\"x\"] = df_2018.index\n",
    "# df_2018[\"percent_max\"] = (df_2018[\"cpu_max\"] / df_2018[\"plan_cpu\"]) * 100\n",
    "# df_2018[\"percent_avg\"] = (df_2018[\"cpu_avg\"] / df_2018[\"plan_cpu\"]) * 100"
   ]
  },
  {
   "cell_type": "code",
   "execution_count": null,
   "id": "d9074fe0-ea1c-4e58-ab5a-e7d8628f72f5",
   "metadata": {},
   "outputs": [],
   "source": [
    "# df_2018.columns"
   ]
  },
  {
   "cell_type": "code",
   "execution_count": null,
   "id": "f685be03-85da-40ca-834e-70f944beafe7",
   "metadata": {},
   "outputs": [],
   "source": [
    "# len(df_2018[df_2018.percent_avg > 100]), len(df_2018[df_2018.percent_avg <= 100]), len(df_2018)"
   ]
  },
  {
   "cell_type": "code",
   "execution_count": null,
   "id": "67e29870-ce4f-41a3-80dc-c5878f4cdba5",
   "metadata": {},
   "outputs": [],
   "source": [
    "# len(df_2018[df_2018.percent_max > 100]), len(df_2018[df_2018.percent_max <= 100]), len(df_2018)"
   ]
  },
  {
   "cell_type": "code",
   "execution_count": null,
   "id": "6db96047-47b1-4bac-99e8-f71b11455749",
   "metadata": {},
   "outputs": [],
   "source": [
    "# list(df_2018.percent_max.unique())"
   ]
  },
  {
   "cell_type": "code",
   "execution_count": null,
   "id": "bcd465e0-8617-4e8d-b147-42ee9ca02b36",
   "metadata": {},
   "outputs": [],
   "source": [
    "# df_2018.percent_avg.unique()"
   ]
  },
  {
   "cell_type": "code",
   "execution_count": null,
   "id": "0c254918-3986-41b6-8c41-d86577c5b81e",
   "metadata": {},
   "outputs": [],
   "source": [
    "# df_2018.percent_max.plot()"
   ]
  },
  {
   "cell_type": "code",
   "execution_count": null,
   "id": "5eb4dddc-630e-4600-a095-a0377b0faac1",
   "metadata": {},
   "outputs": [],
   "source": [
    "# df_2018.percent_avg.plot()"
   ]
  },
  {
   "cell_type": "code",
   "execution_count": 8,
   "id": "1f108537-e48d-42f0-89b0-079d8a35e256",
   "metadata": {},
   "outputs": [
    {
     "data": {
      "text/plain": [
       "array([ 83,  29,  27,  11,  71,  36,  95,  55,  96,   8,  94,  21,  85,\n",
       "        46,  38,   2,   4,   0,  76,  51,  62,  10,  92,  60,  63,  97,\n",
       "        93,  73,  90,  15,  64,  53,   3,  65,  47,  45,  19,   6,  61,\n",
       "        79,   5,  16,  88, 102,  39,  74,  68,  44,  81,   7,  17,  78,\n",
       "        86,  32,  22,  77,  28,  50,  91,  72,  98,  37,  56,  49,  23,\n",
       "        59,  26,  67,  40,  12,  87,  13,  25,  69,  34,  82,  75,  20,\n",
       "        42,  18, 101,  57,   1,  30,  99,  43,  35,  48,  24,  89,  54,\n",
       "        66,  41,  14,  80,  31,   9,  70,  33, 100,  52,  58,  84],\n",
       "      dtype=int8)"
      ]
     },
     "execution_count": 8,
     "metadata": {},
     "output_type": "execute_result"
    }
   ],
   "source": [
    "df.cpu_set.astype(\"category\").cat.codes.unique()"
   ]
  },
  {
   "cell_type": "code",
   "execution_count": 14,
   "id": "02a65896-9eec-4e1d-a725-17127a3d67a8",
   "metadata": {},
   "outputs": [
    {
     "data": {
      "text/plain": [
       "0           4\n",
       "1           8\n",
       "2           4\n",
       "3          16\n",
       "4           4\n",
       "           ..\n",
       "1458050     4\n",
       "1458051     8\n",
       "1458052    16\n",
       "1458053     4\n",
       "1458054     4\n",
       "Name: cpu_set, Length: 1458055, dtype: int64"
      ]
     },
     "execution_count": 14,
     "metadata": {},
     "output_type": "execute_result"
    }
   ],
   "source": [
    "df['cpu_set'].str.split('|').str.len()"
   ]
  },
  {
   "cell_type": "code",
   "execution_count": null,
   "id": "d3c28a60-d65c-45d8-90c3-8a5afbf35171",
   "metadata": {},
   "outputs": [],
   "source": []
  }
 ],
 "metadata": {
  "kernelspec": {
   "display_name": "Python 3 (ipykernel)",
   "language": "python",
   "name": "python3"
  },
  "language_info": {
   "codemirror_mode": {
    "name": "ipython",
    "version": 3
   },
   "file_extension": ".py",
   "mimetype": "text/x-python",
   "name": "python",
   "nbconvert_exporter": "python",
   "pygments_lexer": "ipython3",
   "version": "3.10.12"
  }
 },
 "nbformat": 4,
 "nbformat_minor": 5
}
